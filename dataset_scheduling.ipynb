{
  "nbformat": 4,
  "nbformat_minor": 0,
  "metadata": {
    "colab": {
      "provenance": []
    },
    "kernelspec": {
      "name": "python3",
      "display_name": "Python 3"
    },
    "language_info": {
      "name": "python"
    }
  },
  "cells": [
    {
      "cell_type": "code",
      "execution_count": null,
      "metadata": {
        "id": "Qx83wU8pkzqZ"
      },
      "outputs": [],
      "source": [
        "!pip install pylatexenc --quiet\n",
        "!pip install qiskit --quiet\n",
        "!pip install graphviz --quiet"
      ]
    },
    {
      "cell_type": "code",
      "source": [
        "!pip3 install torch\n",
        "!pip install pyg-lib torch-scatter torch-sparse torch-cluster torch-spline-conv torch-geometric -f https://data.pyg.org/whl/torch-1.13.0+cpu.html"
      ],
      "metadata": {
        "id": "biuQarqFTVbK"
      },
      "execution_count": null,
      "outputs": []
    },
    {
      "cell_type": "code",
      "source": [
        "import numpy as np\n",
        "import pandas as pd\n",
        "from qiskit import transpile\n",
        "from qiskit.circuit import QuantumCircuit\n",
        "from qiskit.circuit.library import XGate\n",
        "from qiskit.transpiler import PassManager, InstructionDurations\n",
        "from qiskit.transpiler.passes import ALAPSchedule, ALAPScheduleAnalysis, DynamicalDecoupling, PadDynamicalDecoupling\n",
        "from qiskit.visualization import timeline_drawer\n",
        "from qiskit.dagcircuit import DAGCircuit\n",
        "from qiskit.converters import circuit_to_dag, dag_to_circuit\n",
        "from qiskit.circuit.random import random_circuit\n",
        "from qiskit.transpiler.passes.scheduling.padding.base_padding import BasePadding\n",
        "from qiskit.providers.fake_provider import FakeLagosV2,FakeBoeblingenV2\n",
        "from tqdm import tqdm\n",
        "import networkx as nx\n",
        "from torch_geometric.utils.convert import to_networkx, from_networkx\n",
        "import torch"
      ],
      "metadata": {
        "id": "8l6E4f0Yk3Xn"
      },
      "execution_count": null,
      "outputs": []
    },
    {
      "cell_type": "code",
      "source": [
        "matrix_sched = pd.DataFrame(columns=['input','output'])\n",
        "for i in tqdm(range(0,500)):\n",
        "  circ = random_circuit(10, 30, max_operands=2, measure=True)\n",
        "  circ = circ.decompose().decompose()\n",
        "  #circ.draw(output='mpl')\n",
        "  cdag = circuit_to_dag(circ)\n",
        "  cdag = cdag.to_networkx()\n",
        "  l = nx.to_dict_of_lists(cdag)\n",
        "  cdag = nx.Graph(l)\n",
        "  cdag = from_networkx(cdag)\n",
        "\n",
        "  backend = FakeBoeblingenV2()\n",
        "  durations = backend.target.durations()\n",
        "\n",
        "  circ_sched = transpile(circ, backend, scheduling_method=\"alap\")\n",
        "  pm = PassManager(ALAPScheduleAnalysis(durations))\n",
        "  circ_sched = pm.run(circ_sched)\n",
        "  dag_sched = circuit_to_dag(circ_sched)\n",
        "  dag_sched = dag_sched.to_networkx()\n",
        "  l = nx.to_dict_of_lists(dag_sched)\n",
        "  dag_sched = nx.Graph(l)\n",
        "  dag_sched = from_networkx(dag_sched)\n",
        "\n",
        "  matrix_sched.loc[len(matrix_sched.index)] = [cdag, dag_sched] \n",
        "  #circ_sched.draw(output='mpl')\n"
      ],
      "metadata": {
        "colab": {
          "base_uri": "https://localhost:8080/"
        },
        "id": "Ij0GM8wKk-zF",
        "outputId": "249aa089-b0e3-41ef-bfbf-f2864186860f"
      },
      "execution_count": null,
      "outputs": [
        {
          "output_type": "stream",
          "name": "stderr",
          "text": [
            "100%|██████████| 500/500 [09:51<00:00,  1.18s/it]\n"
          ]
        }
      ]
    },
    {
      "cell_type": "code",
      "source": [
        "matrix_sched.head()\n",
        "from google.colab import files\n",
        "matrix_sched.to_csv('dataset_scheduling_py.csv', encoding = 'utf-8-sig') \n",
        "files.download('dataset_scheduling_py.csv')"
      ],
      "metadata": {
        "colab": {
          "base_uri": "https://localhost:8080/",
          "height": 17
        },
        "id": "7MCbTqezmHYL",
        "outputId": "93f7b0da-f650-4aa0-db1e-f88f9ee3e79d"
      },
      "execution_count": null,
      "outputs": [
        {
          "output_type": "display_data",
          "data": {
            "text/plain": [
              "<IPython.core.display.Javascript object>"
            ],
            "application/javascript": [
              "\n",
              "    async function download(id, filename, size) {\n",
              "      if (!google.colab.kernel.accessAllowed) {\n",
              "        return;\n",
              "      }\n",
              "      const div = document.createElement('div');\n",
              "      const label = document.createElement('label');\n",
              "      label.textContent = `Downloading \"${filename}\": `;\n",
              "      div.appendChild(label);\n",
              "      const progress = document.createElement('progress');\n",
              "      progress.max = size;\n",
              "      div.appendChild(progress);\n",
              "      document.body.appendChild(div);\n",
              "\n",
              "      const buffers = [];\n",
              "      let downloaded = 0;\n",
              "\n",
              "      const channel = await google.colab.kernel.comms.open(id);\n",
              "      // Send a message to notify the kernel that we're ready.\n",
              "      channel.send({})\n",
              "\n",
              "      for await (const message of channel.messages) {\n",
              "        // Send a message to notify the kernel that we're ready.\n",
              "        channel.send({})\n",
              "        if (message.buffers) {\n",
              "          for (const buffer of message.buffers) {\n",
              "            buffers.push(buffer);\n",
              "            downloaded += buffer.byteLength;\n",
              "            progress.value = downloaded;\n",
              "          }\n",
              "        }\n",
              "      }\n",
              "      const blob = new Blob(buffers, {type: 'application/binary'});\n",
              "      const a = document.createElement('a');\n",
              "      a.href = window.URL.createObjectURL(blob);\n",
              "      a.download = filename;\n",
              "      div.appendChild(a);\n",
              "      a.click();\n",
              "      div.remove();\n",
              "    }\n",
              "  "
            ]
          },
          "metadata": {}
        },
        {
          "output_type": "display_data",
          "data": {
            "text/plain": [
              "<IPython.core.display.Javascript object>"
            ],
            "application/javascript": [
              "download(\"download_78d905e3-e989-480a-a08c-28cf3a7d18c2\", \"dataset_scheduling_py.csv\", 184907)"
            ]
          },
          "metadata": {}
        }
      ]
    },
    {
      "cell_type": "code",
      "source": [
        "from google.colab import files\n",
        "uploaded = files.upload()\n",
        "import io\n",
        "df2 = pd.read_csv(io.BytesIO(uploaded['dataset_scheduling_py.csv']))"
      ],
      "metadata": {
        "id": "i8jSGvOdvuM-"
      },
      "execution_count": null,
      "outputs": []
    },
    {
      "cell_type": "code",
      "source": [
        "from torch_geometric.data import Data\n",
        "from torch_geometric.loader import DataLoader\n",
        "\n",
        "# Define the input and output arrays of graphs\n",
        "input_graphs = matrix_sched['input'].tolist()\n",
        "output_graphs = matrix_sched['output'].tolist()\n",
        "\n",
        "# Create a list of tuples containing the input and output graphs\n",
        "data_list = [(input_graph, output_graph) for input_graph, output_graph in zip(input_graphs, output_graphs)]\n",
        "\n",
        "# Convert the list of tuples into a list of PyTorch Geometric Data objects\n",
        "data_list = [Data(x=input_graph, y=output_graph) for input_graph, output_graph in data_list]\n",
        "\n",
        "# Create a PyTorch Geometric data loader\n",
        "dataloader = DataLoader(data_list, batch_size=32, shuffle=True)"
      ],
      "metadata": {
        "id": "88wH4AAHxOX0"
      },
      "execution_count": null,
      "outputs": []
    },
    {
      "cell_type": "code",
      "source": [
        "import torch.nn.functional as F\n",
        "from torch_geometric.nn import GCNConv\n",
        "\n",
        "#class GCN(torch.nn.Module):\n",
        "#    def __init__(self):\n",
        "#        super().__init__()\n",
        "#        self.conv1 = GCNConv(dataset.num_node_features, 16)\n",
        "#        self.conv2 = GCNConv(16, dataset.num_classes)\n",
        "class GCN(torch.nn.Module):\n",
        "    def __init__(self):\n",
        "        super(GCN, self).__init__()\n",
        "\n",
        "        # Define the GCNConv layer\n",
        "        self.conv1 = GCNConv(3, 32)\n",
        "        self.conv2 = GCNConv(32, 64)\n",
        "\n",
        "    def forward(self, data):\n",
        "        # Apply the GCNConv layers\n",
        "        x = self.conv1(x, data.edge_index)\n",
        "        x = F.relu(x)\n",
        "        x = self.conv2(x,data.edge_index)\n",
        "        x = F.relu(x)\n",
        "\n",
        "        return F.log_softmax(x, dim=1)"
      ],
      "metadata": {
        "id": "-f9oAHP7Nxjx"
      },
      "execution_count": null,
      "outputs": []
    },
    {
      "cell_type": "code",
      "source": [
        "device = torch.device('cuda' if torch.cuda.is_available() else 'cpu')\n",
        "model = GCN().to(device)\n",
        "data = input_graphs[0]\n",
        "optimizer = torch.optim.Adam(model.parameters(), lr=0.01, weight_decay=5e-4)\n",
        "\n",
        "model.train()\n",
        "for epoch in range(200):\n",
        "    optimizer.zero_grad()\n",
        "    out = model(data)\n",
        "    loss = F.nll_loss(out[data.train_mask], data.y[data.train_mask])\n",
        "    loss.backward()\n",
        "    optimizer.step()"
      ],
      "metadata": {
        "id": "FYdYe4juboz1"
      },
      "execution_count": null,
      "outputs": []
    },
    {
      "cell_type": "code",
      "source": [],
      "metadata": {
        "id": "1Iil0Pw_qUuL"
      },
      "execution_count": null,
      "outputs": []
    }
  ]
}